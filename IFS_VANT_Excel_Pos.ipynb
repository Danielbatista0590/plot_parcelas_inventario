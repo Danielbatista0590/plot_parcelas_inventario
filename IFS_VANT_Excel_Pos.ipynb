{
 "cells": [
  {
   "cell_type": "markdown",
   "metadata": {},
   "source": [
    "Atualizar o excel que está conectado com o sharepoint do pós plantio"
   ]
  },
  {
   "cell_type": "code",
   "execution_count": 1,
   "metadata": {},
   "outputs": [],
   "source": [
    "import win32com.client\n",
    "import shutil"
   ]
  },
  {
   "cell_type": "code",
   "execution_count": 2,
   "metadata": {},
   "outputs": [],
   "source": [
    "#Based upon Code Sample from http://nbviewer.ipython.org/github/sanand0/ipython-notebooks/blob/master/Office.ipynb\n",
    "#                   and from http://stackoverflow.com/questions/11832628/python-excel-macro-refresh\n",
    " \n",
    "# Set Pathnames &amp; Filename (Use forward slashes / instead of backslashes \\ in the paths)\n",
    "SourcePathName = r'\\\\10.0.2.194\\pr\\07 - Inventario\\03_IFS_VANT\\05_automatizacao'\n",
    "FileName = 'Pos_plantio.xlsx'\n",
    " \n",
    "# Open Excel\n",
    "Application = win32com.client.Dispatch(\"Excel.Application\")\n",
    " \n",
    "# Show Excel. While this is not required, it can help with debugging\n",
    "Application.Visible = 1\n",
    " \n",
    "# Open Your Workbook\n",
    "Workbook = Application.Workbooks.open(SourcePathName + '/' + FileName)\n",
    "\n",
    "# Refresh All\n",
    "Workbook.RefreshAll()\n",
    " \n",
    "# Saves the Workbook\n",
    "Workbook.Save()\n",
    " \n",
    "# Closes Excel\n",
    "Application.Quit()"
   ]
  },
  {
   "cell_type": "code",
   "execution_count": null,
   "metadata": {},
   "outputs": [],
   "source": []
  }
 ],
 "metadata": {
  "kernelspec": {
   "display_name": "Python 3",
   "language": "python",
   "name": "python3"
  },
  "language_info": {
   "codemirror_mode": {
    "name": "ipython",
    "version": 3
   },
   "file_extension": ".py",
   "mimetype": "text/x-python",
   "name": "python",
   "nbconvert_exporter": "python",
   "pygments_lexer": "ipython3",
   "version": "3.6.6"
  }
 },
 "nbformat": 4,
 "nbformat_minor": 2
}
